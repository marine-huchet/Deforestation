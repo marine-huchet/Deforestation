{
 "cells": [
  {
   "cell_type": "markdown",
   "metadata": {},
   "source": [
    "Installation des bibliothèques requises"
   ]
  },
  {
   "cell_type": "code",
   "execution_count": 2,
   "metadata": {},
   "outputs": [
    {
     "name": "stdout",
     "output_type": "stream",
     "text": [
      "Requirement already satisfied: requests in /opt/conda/lib/python3.12/site-packages (2.32.3)\n",
      "Requirement already satisfied: charset-normalizer<4,>=2 in /opt/conda/lib/python3.12/site-packages (from requests) (3.4.0)\n",
      "Requirement already satisfied: idna<4,>=2.5 in /opt/conda/lib/python3.12/site-packages (from requests) (3.10)\n",
      "Requirement already satisfied: urllib3<3,>=1.21.1 in /opt/conda/lib/python3.12/site-packages (from requests) (2.2.3)\n",
      "Requirement already satisfied: certifi>=2017.4.17 in /opt/conda/lib/python3.12/site-packages (from requests) (2024.8.30)\n",
      "Collecting Faostat\n",
      "  Downloading faostat-1.1.2-py3-none-any.whl.metadata (15 kB)\n",
      "Requirement already satisfied: pandas in /opt/conda/lib/python3.12/site-packages (from Faostat) (2.2.3)\n",
      "Requirement already satisfied: requests in /opt/conda/lib/python3.12/site-packages (from Faostat) (2.32.3)\n",
      "Requirement already satisfied: numpy>=1.26.0 in /opt/conda/lib/python3.12/site-packages (from pandas->Faostat) (2.1.3)\n",
      "Requirement already satisfied: python-dateutil>=2.8.2 in /opt/conda/lib/python3.12/site-packages (from pandas->Faostat) (2.9.0)\n",
      "Requirement already satisfied: pytz>=2020.1 in /opt/conda/lib/python3.12/site-packages (from pandas->Faostat) (2024.1)\n",
      "Requirement already satisfied: tzdata>=2022.7 in /opt/conda/lib/python3.12/site-packages (from pandas->Faostat) (2024.2)\n",
      "Requirement already satisfied: charset-normalizer<4,>=2 in /opt/conda/lib/python3.12/site-packages (from requests->Faostat) (3.4.0)\n",
      "Requirement already satisfied: idna<4,>=2.5 in /opt/conda/lib/python3.12/site-packages (from requests->Faostat) (3.10)\n",
      "Requirement already satisfied: urllib3<3,>=1.21.1 in /opt/conda/lib/python3.12/site-packages (from requests->Faostat) (2.2.3)\n",
      "Requirement already satisfied: certifi>=2017.4.17 in /opt/conda/lib/python3.12/site-packages (from requests->Faostat) (2024.8.30)\n",
      "Requirement already satisfied: six>=1.5 in /opt/conda/lib/python3.12/site-packages (from python-dateutil>=2.8.2->pandas->Faostat) (1.16.0)\n",
      "Downloading faostat-1.1.2-py3-none-any.whl (9.8 kB)\n",
      "Installing collected packages: Faostat\n",
      "Successfully installed Faostat-1.1.2\n"
     ]
    }
   ],
   "source": [
    "!pip install requests\n",
    "!pip install Faostat"
   ]
  },
  {
   "cell_type": "markdown",
   "metadata": {},
   "source": [
    "Obtention de l'API de My GFW"
   ]
  },
  {
   "cell_type": "code",
   "execution_count": null,
   "metadata": {},
   "outputs": [],
   "source": [
    "import requests\n",
    "\n",
    "# URL de l'API\n",
    "url = 'https://data-api.globalforestwatch.org/auth/token'\n",
    "\n",
    "# Données à envoyer dans la requête POST\n",
    "data = {\n",
    "    'username': 'philippe.detinguy@ensae.fr',\n",
    "    'password': 'Philgfw1'\n",
    "}\n",
    "\n",
    "# En-têtes de la requête\n",
    "headers = {\n",
    "    'Content-Type': 'application/x-www-form-urlencoded'\n",
    "}\n",
    "\n",
    "# Envoi de la requête POST\n",
    "response = requests.post(url, data=data, headers=headers)\n",
    "\n",
    "# Vérification de la réponse\n",
    "if response.status_code == 200:\n",
    "    print('Succès:', response.json())\n",
    "else:\n",
    "    print(f'Erreur: {response.status_code}, {response.text}')\n",
    "\n",
    "response.json()[\"data\"]['access_token']"
   ]
  },
  {
   "cell_type": "markdown",
   "metadata": {},
   "source": [
    "(en cours) API FAO"
   ]
  },
  {
   "cell_type": "code",
   "execution_count": 3,
   "metadata": {},
   "outputs": [
    {
     "name": "stdout",
     "output_type": "stream",
     "text": [
      "GET request error: 503 Server Error: Service Temporarily Unavailable for url: http://fenixapps2.fao.org/api/v1.0/en/classifications/QC\n",
      "POST request error: 503 Server Error: Service Temporarily Unavailable for url: http://fenixapps2.fao.org/api/v1.0/en/data\n"
     ]
    }
   ],
   "source": [
    "import requests\n",
    "\n",
    "def test():\n",
    "    # (1) GET request\n",
    "    # Based on example by FAOSTAT (http://faostat.github.io/faostat-api/)\n",
    "    get_url = 'http://fenixapps2.fao.org/api/v1.0/en/classifications/QC'\n",
    "    try:\n",
    "        response = requests.get(get_url)\n",
    "        response.raise_for_status()  # Will raise an exception for HTTP errors (e.g., 404, 500)\n",
    "        print(\"metadata GET response:\")\n",
    "        print(response.json())  # Output the JSON response\n",
    "    except requests.exceptions.RequestException as e:\n",
    "        print(f\"GET request error: {e}\")\n",
    "\n",
    "    # (2) POST request\n",
    "    post_url = \"http://fenixapps2.fao.org/api/v1.0/en/data\"\n",
    "    data = {\n",
    "        \"datasource\": \"production\",  # test\n",
    "        \"output_type\": \"objects\",  # arrays\n",
    "        \"api_key\": \"n.a.\",\n",
    "        \"client_key\": \"n.a.\",\n",
    "        \"lang\": \"en\",\n",
    "        \"domain_codes\": [\"QC\"],\n",
    "        \"decimal_places\": \"2\",\n",
    "        \"List1Codes\": [\"33\"],\n",
    "        \"List2Codes\": [\"2510\"],\n",
    "        \"List3Codes\": [\"15\"],\n",
    "        \"List4Codes\": [\"2007\", \"2008\", \"2009\", \"2010\", \"2011\", \"2012\"],\n",
    "        \"List5Codes\": [\"null\"],\n",
    "        \"List6Codes\": [\"null\"],\n",
    "        \"List7Codes\": [\"null\"],\n",
    "        \"null_values\": True,\n",
    "        \"page_size\": \"100\",\n",
    "        \"limit\": \"10\",\n",
    "        \"page_number\": \"1\"\n",
    "    }\n",
    "\n",
    "    try:\n",
    "        response = requests.post(post_url, json=data)  # Send JSON data\n",
    "        response.raise_for_status()  # Check for errors in the response\n",
    "        print(\"data POST response:\")\n",
    "        print(response.url)  # Print the full URL with query parameters (similar to `urlPlusData`)\n",
    "        print(response.json())  # Output the JSON response\n",
    "    except requests.exceptions.RequestException as e:\n",
    "        print(f\"POST request error: {e}\")\n",
    "\n",
    "if __name__ == \"__main__\":\n",
    "    test()"
   ]
  },
  {
   "cell_type": "code",
   "execution_count": null,
   "metadata": {},
   "outputs": [],
   "source": [
    "import faostat\n",
    "faostat.list_datasets()"
   ]
  }
 ],
 "metadata": {
  "kernelspec": {
   "display_name": "base",
   "language": "python",
   "name": "python3"
  },
  "language_info": {
   "codemirror_mode": {
    "name": "ipython",
    "version": 3
   },
   "file_extension": ".py",
   "mimetype": "text/x-python",
   "name": "python",
   "nbconvert_exporter": "python",
   "pygments_lexer": "ipython3",
   "version": "3.12.6"
  }
 },
 "nbformat": 4,
 "nbformat_minor": 2
}
