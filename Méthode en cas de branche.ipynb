{
 "cells": [
  {
   "cell_type": "markdown",
   "metadata": {},
   "source": [
    "Rappel de quoi faire en cas de branche qui veulent pas se commit (si pas d'autres conflits) : "
   ]
  },
  {
   "cell_type": "markdown",
   "metadata": {},
   "source": [
    "Aller dans le Terminal. Faire cd / . Coller le chemin qui mène au dossier git (ce sera normalement /home/onyxia/work/Deforestation). Lancer le code. \n"
   ]
  },
  {
   "cell_type": "markdown",
   "metadata": {},
   "source": [
    "Maintenant que nous sommes au bon endroit, coller : git config pull.rebase false . Activer le code. Maintenant,le commit devrait se faire sans problème. "
   ]
  }
 ],
 "metadata": {
  "language_info": {
   "name": "python"
  }
 },
 "nbformat": 4,
 "nbformat_minor": 2
}
